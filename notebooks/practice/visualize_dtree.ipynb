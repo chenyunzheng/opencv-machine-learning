{
 "cells": [
  {
   "cell_type": "code",
   "execution_count": 1,
   "metadata": {},
   "outputs": [
    {
     "data": {
      "text/plain": [
       "19"
      ]
     },
     "execution_count": 1,
     "metadata": {},
     "output_type": "execute_result"
    }
   ],
   "source": [
    "data = [\n",
    "\t{'age': 33, 'sex': 'F', 'BP': 'high', 'cholesterol': 'high',\n",
    "\t'Na': 0.66, 'K': 0.06, 'drug': 'A'},\n",
    "\t{'age': 77, 'sex': 'F', 'BP': 'high', 'cholesterol': 'normal',\n",
    "\t'Na': 0.19, 'K': 0.03, 'drug': 'D'},\n",
    "\t{'age': 88, 'sex': 'M', 'BP': 'normal', 'cholesterol': 'normal',\n",
    "\t'Na': 0.80, 'K': 0.05, 'drug': 'B'},\n",
    "\t{'age': 39, 'sex': 'F', 'BP': 'low', 'cholesterol': 'normal',\n",
    "\t'Na': 0.19, 'K': 0.02, 'drug': 'C'},\n",
    "\t{'age': 43, 'sex': 'M', 'BP': 'normal', 'cholesterol': 'high',\n",
    "\t'Na': 0.36, 'K': 0.03, 'drug': 'D'},\n",
    "\t{'age': 82, 'sex': 'F', 'BP': 'normal', 'cholesterol': 'normal',\n",
    "\t'Na': 0.09, 'K': 0.09, 'drug': 'C'},\n",
    "\t{'age': 40, 'sex': 'M', 'BP': 'high', 'cholesterol': 'normal',\n",
    "\t'Na': 0.89, 'K': 0.02, 'drug': 'A'},\n",
    "\t{'age': 88, 'sex': 'M', 'BP': 'normal', 'cholesterol': 'normal',\n",
    "\t'Na': 0.80, 'K': 0.05, 'drug': 'B'},\n",
    "\t{'age': 29, 'sex': 'F', 'BP': 'high', 'cholesterol': 'normal',\n",
    "\t'Na': 0.35, 'K': 0.04, 'drug': 'D'},\n",
    "\t{'age': 53, 'sex': 'F', 'BP': 'normal', 'cholesterol': 'normal',\n",
    "\t'Na': 0.54, 'K': 0.06, 'drug': 'C'},\n",
    "\t{'age': 63, 'sex': 'M', 'BP': 'low', 'cholesterol': 'high',\n",
    "\t'Na': 0.86, 'K': 0.09, 'drug': 'B'},\n",
    "\t{'age': 60, 'sex': 'M', 'BP': 'low', 'cholesterol': 'normal',\n",
    "\t'Na': 0.66, 'K': 0.04, 'drug': 'C'},\n",
    "\t{'age': 55, 'sex': 'M', 'BP': 'high', 'cholesterol': 'high',\n",
    "\t'Na': 0.82, 'K': 0.04, 'drug': 'B'},\n",
    "\t{'age': 35, 'sex': 'F', 'BP': 'normal', 'cholesterol': 'high',\n",
    "\t'Na': 0.27, 'K': 0.03, 'drug': 'D'},\n",
    "\t{'age': 23, 'sex': 'F', 'BP': 'high', 'cholesterol': 'high',\n",
    "\t'Na': 0.55, 'K': 0.08, 'drug': 'A'},\n",
    "\t{'age': 49, 'sex': 'F', 'BP': 'low', 'cholesterol': 'normal',\n",
    "\t'Na': 0.27, 'K': 0.05, 'drug': 'C'},\n",
    "\t{'age': 27, 'sex': 'M', 'BP': 'normal', 'cholesterol': 'normal',\n",
    "\t'Na': 0.77, 'K': 0.02, 'drug': 'B'},\n",
    "\t{'age': 51, 'sex': 'F', 'BP': 'low', 'cholesterol': 'high',\n",
    "\t'Na': 0.20, 'K': 0.02, 'drug': 'D'},\n",
    "\t{'age': 38, 'sex': 'M', 'BP': 'high', 'cholesterol': 'normal',\n",
    "\t'Na': 0.78, 'K': 0.05, 'drug': 'A'}\n",
    "]\n",
    "len(data)"
   ]
  },
  {
   "cell_type": "code",
   "execution_count": 2,
   "metadata": {},
   "outputs": [
    {
     "name": "stdout",
     "output_type": "stream",
     "text": [
      "target_flags = [0, 3, 1, 2, 3, 2, 0, 1, 3, 2, 1, 2, 1, 3, 0, 2, 1, 3, 0]\n",
      "['BP=high', 'BP=low', 'BP=normal', 'K', 'Na', 'age', 'cholesterol=high', 'cholesterol=normal', 'sex=F', 'sex=M']\n"
     ]
    }
   ],
   "source": [
    "import numpy as np\n",
    "from sklearn.feature_extraction import DictVectorizer\n",
    "# select 'drug' attribute as target and remove it from data\n",
    "target = [dic.pop('drug') for dic in data]\n",
    "target_flags = [ord(i)-65 for i in target]\n",
    "print('target_flags =', target_flags)\n",
    "### Preprocessing the data\n",
    "# convert categorical data to numerical\n",
    "vec = DictVectorizer(sparse=False)\n",
    "data_pre = vec.fit_transform(data)\n",
    "print(vec.get_feature_names())\n",
    "# convert to float32 to compatible with OpenCV\n",
    "data_pre = np.array(data_pre, dtype=np.float32)\n",
    "target_flags = np.array(target_flags, dtype=np.float32)"
   ]
  },
  {
   "cell_type": "code",
   "execution_count": 3,
   "metadata": {},
   "outputs": [],
   "source": [
    "# split train & test datasets\n",
    "import sklearn.model_selection as ms\n",
    "x_train, x_test, y_train, y_test = ms.train_test_split(data_pre, target_flags, test_size=5, random_state=42)"
   ]
  },
  {
   "cell_type": "code",
   "execution_count": 4,
   "metadata": {},
   "outputs": [
    {
     "data": {
      "text/plain": [
       "DecisionTreeClassifier(ccp_alpha=0.0, class_weight=None, criterion='gini',\n",
       "                       max_depth=None, max_features=None, max_leaf_nodes=None,\n",
       "                       min_impurity_decrease=0.0, min_impurity_split=None,\n",
       "                       min_samples_leaf=1, min_samples_split=2,\n",
       "                       min_weight_fraction_leaf=0.0, presort='deprecated',\n",
       "                       random_state=None, splitter='best')"
      ]
     },
     "execution_count": 4,
     "metadata": {},
     "output_type": "execute_result"
    }
   ],
   "source": [
    "### visualize decision tree using graphviz\n",
    "from sklearn import tree\n",
    "dtc = tree.DecisionTreeClassifier()\n",
    "dtc.fit(x_train, y_train)"
   ]
  },
  {
   "cell_type": "code",
   "execution_count": 5,
   "metadata": {},
   "outputs": [
    {
     "name": "stdout",
     "output_type": "stream",
     "text": [
      "1.0\n",
      "0.4\n"
     ]
    }
   ],
   "source": [
    "print(dtc.score(x_train, y_train))\n",
    "print(dtc.score(x_test, y_test))"
   ]
  },
  {
   "cell_type": "code",
   "execution_count": 6,
   "metadata": {},
   "outputs": [],
   "source": [
    "with open('tree.dot', 'w') as f:\n",
    "    tree.export_graphviz(dtc, out_file=f, feature_names=vec.get_feature_names(), class_names=['A','B','C','D'])"
   ]
  },
  {
   "cell_type": "code",
   "execution_count": 7,
   "metadata": {},
   "outputs": [
    {
     "data": {
      "text/plain": [
       "array([0.21875   , 0.        , 0.        , 0.        , 0.34375   ,\n",
       "       0.14583333, 0.        , 0.29166667, 0.        , 0.        ])"
      ]
     },
     "execution_count": 7,
     "metadata": {},
     "output_type": "execute_result"
    }
   ],
   "source": [
    "dtc.feature_importances_"
   ]
  },
  {
   "cell_type": "code",
   "execution_count": 8,
   "metadata": {},
   "outputs": [
    {
     "data": {
      "text/plain": [
       "<BarContainer object of 10 artists>"
      ]
     },
     "execution_count": 8,
     "metadata": {},
     "output_type": "execute_result"
    },
    {
     "data": {
      "image/png": "[encoded data removed]",
      "text/plain": [
       "<Figure size 432x288 with 1 Axes>"
      ]
     },
     "metadata": {
      "needs_background": "light"
     },
     "output_type": "display_data"
    }
   ],
   "source": [
    "import matplotlib.pyplot as plt\n",
    "plt.barh(range(10), dtc.feature_importances_, align='center', tick_label=vec.get_feature_names())"
   ]
  },
  {
   "cell_type": "code",
   "execution_count": null,
   "metadata": {},
   "outputs": [],
   "source": []
  }
 ],
 "metadata": {
  "kernelspec": {
   "display_name": "Python 3",
   "language": "python",
   "name": "python3"
  },
  "language_info": {
   "codemirror_mode": {
    "name": "ipython",
    "version": 3
   },
   "file_extension": ".py",
   "mimetype": "text/x-python",
   "name": "python",
   "nbconvert_exporter": "python",
   "pygments_lexer": "ipython3",
   "version": "3.6.7"
  }
 },
 "nbformat": 4,
 "nbformat_minor": 4
}
