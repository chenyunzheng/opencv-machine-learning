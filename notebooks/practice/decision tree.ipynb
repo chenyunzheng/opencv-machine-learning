{
 "cells": [
  {
   "cell_type": "code",
   "execution_count": 1,
   "metadata": {},
   "outputs": [
    {
     "data": {
      "text/plain": [
       "['I am Mohammed Abacha, the son of the late Nigerian Head of State who died on the 8th of June 1998. Since i have been unsuccessful in locating the relatives for over 2 years now I seek your consent to present you as the next of kin so that the proceeds of this account valued at US$15.5 Million Dollars can be paid to you. If you are capable and willing to assist, contact me at once via email with following details: 1. Your full name, address, and telephone number. 2. Your Bank Name, Address. 3.Your Bank Account Number and Beneficiary Name - You must be the signatory.']"
      ]
     },
     "execution_count": 1,
     "metadata": {},
     "output_type": "execute_result"
    }
   ],
   "source": [
    "data = [\n",
    "\t'I am Mohammed Abacha, the son of the late Nigerian Head of '\n",
    "\t'State who died on the 8th of June 1998. Since i have been '\n",
    "\t'unsuccessful in locating the relatives for over 2 years now '\n",
    "\t'I seek your consent to present you as the next of kin so '\n",
    "\t'that the proceeds of this account valued at US$15.5 Million '\n",
    "\t'Dollars can be paid to you. If you are capable and willing '\n",
    "\t'to assist, contact me at once via email with following '\n",
    "\t'details: 1. Your full name, address, and telephone number. '\n",
    "\t'2. Your Bank Name, Address. 3.Your Bank Account Number and '\n",
    "\t'Beneficiary Name - You must be the signatory.'\n",
    "]\n",
    "data"
   ]
  },
  {
   "cell_type": "code",
   "execution_count": 2,
   "metadata": {},
   "outputs": [
    {
     "data": {
      "text/plain": [
       "<1x73 sparse matrix of type '<class 'numpy.int64'>'\n",
       "\twith 73 stored elements in Compressed Sparse Row format>"
      ]
     },
     "execution_count": 2,
     "metadata": {},
     "output_type": "execute_result"
    }
   ],
   "source": [
    "from sklearn.feature_extraction.text import CountVectorizer\n",
    "vec = CountVectorizer()\n",
    "x = vec.fit_transform(data)\n",
    "x"
   ]
  },
  {
   "cell_type": "code",
   "execution_count": 3,
   "metadata": {},
   "outputs": [
    {
     "data": {
      "text/plain": [
       "['15', '1998', '8th', 'abacha', 'account']"
      ]
     },
     "execution_count": 3,
     "metadata": {},
     "output_type": "execute_result"
    }
   ],
   "source": [
    "vec.get_feature_names()[:5]"
   ]
  },
  {
   "cell_type": "code",
   "execution_count": 4,
   "metadata": {},
   "outputs": [
    {
     "data": {
      "text/plain": [
       "array([1, 1, 1, 1, 2], dtype=int64)"
      ]
     },
     "execution_count": 4,
     "metadata": {},
     "output_type": "execute_result"
    }
   ],
   "source": [
    "x.toarray()[0,:5]"
   ]
  },
  {
   "cell_type": "code",
   "execution_count": 5,
   "metadata": {},
   "outputs": [
    {
     "data": {
      "text/plain": [
       "True"
      ]
     },
     "execution_count": 5,
     "metadata": {},
     "output_type": "execute_result"
    }
   ],
   "source": [
    "'nigerian' in vec.get_feature_names()"
   ]
  },
  {
   "cell_type": "code",
   "execution_count": 6,
   "metadata": {},
   "outputs": [
    {
     "data": {
      "text/plain": [
       "False"
      ]
     },
     "execution_count": 6,
     "metadata": {},
     "output_type": "execute_result"
    }
   ],
   "source": [
    "'prince' in vec.get_feature_names()"
   ]
  },
  {
   "cell_type": "code",
   "execution_count": 1,
   "metadata": {},
   "outputs": [
    {
     "data": {
      "text/plain": [
       "19"
      ]
     },
     "execution_count": 1,
     "metadata": {},
     "output_type": "execute_result"
    }
   ],
   "source": [
    "data = [\n",
    "\t{'age': 33, 'sex': 'F', 'BP': 'high', 'cholesterol': 'high',\n",
    "\t'Na': 0.66, 'K': 0.06, 'drug': 'A'},\n",
    "\t{'age': 77, 'sex': 'F', 'BP': 'high', 'cholesterol': 'normal',\n",
    "\t'Na': 0.19, 'K': 0.03, 'drug': 'D'},\n",
    "\t{'age': 88, 'sex': 'M', 'BP': 'normal', 'cholesterol': 'normal',\n",
    "\t'Na': 0.80, 'K': 0.05, 'drug': 'B'},\n",
    "\t{'age': 39, 'sex': 'F', 'BP': 'low', 'cholesterol': 'normal',\n",
    "\t'Na': 0.19, 'K': 0.02, 'drug': 'C'},\n",
    "\t{'age': 43, 'sex': 'M', 'BP': 'normal', 'cholesterol': 'high',\n",
    "\t'Na': 0.36, 'K': 0.03, 'drug': 'D'},\n",
    "\t{'age': 82, 'sex': 'F', 'BP': 'normal', 'cholesterol': 'normal',\n",
    "\t'Na': 0.09, 'K': 0.09, 'drug': 'C'},\n",
    "\t{'age': 40, 'sex': 'M', 'BP': 'high', 'cholesterol': 'normal',\n",
    "\t'Na': 0.89, 'K': 0.02, 'drug': 'A'},\n",
    "\t{'age': 88, 'sex': 'M', 'BP': 'normal', 'cholesterol': 'normal',\n",
    "\t'Na': 0.80, 'K': 0.05, 'drug': 'B'},\n",
    "\t{'age': 29, 'sex': 'F', 'BP': 'high', 'cholesterol': 'normal',\n",
    "\t'Na': 0.35, 'K': 0.04, 'drug': 'D'},\n",
    "\t{'age': 53, 'sex': 'F', 'BP': 'normal', 'cholesterol': 'normal',\n",
    "\t'Na': 0.54, 'K': 0.06, 'drug': 'C'},\n",
    "\t{'age': 63, 'sex': 'M', 'BP': 'low', 'cholesterol': 'high',\n",
    "\t'Na': 0.86, 'K': 0.09, 'drug': 'B'},\n",
    "\t{'age': 60, 'sex': 'M', 'BP': 'low', 'cholesterol': 'normal',\n",
    "\t'Na': 0.66, 'K': 0.04, 'drug': 'C'},\n",
    "\t{'age': 55, 'sex': 'M', 'BP': 'high', 'cholesterol': 'high',\n",
    "\t'Na': 0.82, 'K': 0.04, 'drug': 'B'},\n",
    "\t{'age': 35, 'sex': 'F', 'BP': 'normal', 'cholesterol': 'high',\n",
    "\t'Na': 0.27, 'K': 0.03, 'drug': 'D'},\n",
    "\t{'age': 23, 'sex': 'F', 'BP': 'high', 'cholesterol': 'high',\n",
    "\t'Na': 0.55, 'K': 0.08, 'drug': 'A'},\n",
    "\t{'age': 49, 'sex': 'F', 'BP': 'low', 'cholesterol': 'normal',\n",
    "\t'Na': 0.27, 'K': 0.05, 'drug': 'C'},\n",
    "\t{'age': 27, 'sex': 'M', 'BP': 'normal', 'cholesterol': 'normal',\n",
    "\t'Na': 0.77, 'K': 0.02, 'drug': 'B'},\n",
    "\t{'age': 51, 'sex': 'F', 'BP': 'low', 'cholesterol': 'high',\n",
    "\t'Na': 0.20, 'K': 0.02, 'drug': 'D'},\n",
    "\t{'age': 38, 'sex': 'M', 'BP': 'high', 'cholesterol': 'normal',\n",
    "\t'Na': 0.78, 'K': 0.05, 'drug': 'A'}\n",
    "]\n",
    "len(data)"
   ]
  },
  {
   "cell_type": "code",
   "execution_count": 2,
   "metadata": {},
   "outputs": [],
   "source": [
    "def separate_drug(data):\n",
    "    alist = [d.pop('drug') for d in data]\n",
    "#     iter = [d['drug'] for d in data]\n",
    "#     print(iter)\n",
    "    return alist"
   ]
  },
  {
   "cell_type": "code",
   "execution_count": 3,
   "metadata": {},
   "outputs": [],
   "source": [
    "# x = separate_drug(data)\n",
    "# x"
   ]
  },
  {
   "cell_type": "code",
   "execution_count": 4,
   "metadata": {},
   "outputs": [],
   "source": [
    "# select 'drug' attribute as target and remove it from data\n",
    "target = [dic.pop('drug') for dic in data]"
   ]
  },
  {
   "cell_type": "code",
   "execution_count": 5,
   "metadata": {},
   "outputs": [],
   "source": [
    "sodium = [d['Na'] for d in data]\n",
    "potassium = [d['K'] for d in data]"
   ]
  },
  {
   "cell_type": "code",
   "execution_count": 6,
   "metadata": {},
   "outputs": [
    {
     "data": {
      "text/plain": [
       "Text(0, 0.5, 'potassium')"
      ]
     },
     "execution_count": 6,
     "metadata": {},
     "output_type": "execute_result"
    },
    {
     "data": {
      "image/png": "[encoded data removed]",
      "text/plain": [
       "<Figure size 432x288 with 1 Axes>"
      ]
     },
     "metadata": {},
     "output_type": "display_data"
    }
   ],
   "source": [
    "import matplotlib.pyplot as plt\n",
    "plt.style.use('ggplot')\n",
    "plt.scatter(sodium, potassium)\n",
    "plt.xlabel('sodium')\n",
    "plt.ylabel('potassium')"
   ]
  },
  {
   "cell_type": "code",
   "execution_count": 7,
   "metadata": {},
   "outputs": [
    {
     "name": "stdout",
     "output_type": "stream",
     "text": [
      "target_flags = [0, 3, 1, 2, 3, 2, 0, 1, 3, 2, 1, 2, 1, 3, 0, 2, 1, 3, 0]\n"
     ]
    },
    {
     "data": {
      "text/plain": [
       "Text(0, 0.5, 'potassium')"
      ]
     },
     "execution_count": 7,
     "metadata": {},
     "output_type": "execute_result"
    },
    {
     "data": {
      "image/png": "[encoded data removed]",
      "text/plain": [
       "<Figure size 432x288 with 1 Axes>"
      ]
     },
     "metadata": {},
     "output_type": "display_data"
    }
   ],
   "source": [
    "# dots with different colors\n",
    "target_flags = [ord(i)-65 for i in target]\n",
    "print('target_flags =', target_flags)\n",
    "plt.scatter(sodium, potassium, c=target_flags, s=100)\n",
    "plt.xlabel('sodium')\n",
    "plt.ylabel('potassium')"
   ]
  },
  {
   "cell_type": "code",
   "execution_count": 8,
   "metadata": {},
   "outputs": [
    {
     "data": {
      "text/plain": [
       "Text(0, 0.5, 'potassium (K)')"
      ]
     },
     "execution_count": 8,
     "metadata": {},
     "output_type": "execute_result"
    },
    {
     "data": {
      "image/png": "[encoded data removed]",
      "text/plain": [
       "<Figure size 864x720 with 3 Axes>"
      ]
     },
     "metadata": {},
     "output_type": "display_data"
    }
   ],
   "source": [
    "age = [d['age'] for d in data]\n",
    "plt.figure(figsize=(12,10))\n",
    "plt.subplot(2,2,1)\n",
    "plt.scatter(sodium, potassium, c=target_flags, s=100)\n",
    "plt.xlabel('sodium (Na)')\n",
    "plt.ylabel('potassium (K)')\n",
    "plt.subplot(2,2,2)\n",
    "plt.scatter(age, sodium, c=target_flags, s=100)\n",
    "plt.xlabel('age')\n",
    "plt.ylabel('sodium (Na)')\n",
    "plt.subplot(2,2,3)\n",
    "plt.scatter(age, potassium, c=target_flags, s=100)\n",
    "plt.xlabel('age')\n",
    "plt.ylabel('potassium (K)')"
   ]
  },
  {
   "cell_type": "code",
   "execution_count": 9,
   "metadata": {},
   "outputs": [
    {
     "data": {
      "text/plain": [
       "['BP=high',\n",
       " 'BP=low',\n",
       " 'BP=normal',\n",
       " 'K',\n",
       " 'Na',\n",
       " 'age',\n",
       " 'cholesterol=high',\n",
       " 'cholesterol=normal',\n",
       " 'sex=F',\n",
       " 'sex=M']"
      ]
     },
     "execution_count": 9,
     "metadata": {},
     "output_type": "execute_result"
    }
   ],
   "source": [
    "### Preprocessing the data\n",
    "# convert categorical data to numerical\n",
    "from sklearn.feature_extraction import DictVectorizer\n",
    "vec = DictVectorizer(sparse=False)\n",
    "data_pre = vec.fit_transform(data)\n",
    "vec.get_feature_names()"
   ]
  },
  {
   "cell_type": "code",
   "execution_count": 10,
   "metadata": {},
   "outputs": [],
   "source": [
    "# convert to float32 to compatible with OpenCV\n",
    "import numpy as np\n",
    "data_pre = np.array(data_pre, dtype=np.float32)\n",
    "target_flags = np.array(target_flags, dtype=np.float32)"
   ]
  },
  {
   "cell_type": "code",
   "execution_count": 11,
   "metadata": {},
   "outputs": [
    {
     "data": {
      "text/plain": [
       "array([ 1.  ,  0.  ,  0.  ,  0.06,  0.66, 33.  ,  1.  ,  0.  ,  1.  ,\n",
       "        0.  ], dtype=float32)"
      ]
     },
     "execution_count": 11,
     "metadata": {},
     "output_type": "execute_result"
    }
   ],
   "source": [
    "data_pre[0]"
   ]
  },
  {
   "cell_type": "code",
   "execution_count": 12,
   "metadata": {},
   "outputs": [],
   "source": [
    "# split train & test datasets\n",
    "import sklearn.model_selection as ms\n",
    "import os\n",
    "os.environ[\"CUDA_VISIBLE_DEVICES\"] = \"-1\"\n",
    "x_train, x_test, y_train, y_test = ms.train_test_split(data_pre, target_flags, test_size=5, random_state=42)"
   ]
  },
  {
   "cell_type": "code",
   "execution_count": 13,
   "metadata": {},
   "outputs": [
    {
     "data": {
      "text/plain": [
       "array([[0.0e+00, 0.0e+00, 1.0e+00, 2.0e-02, 7.7e-01, 2.7e+01, 0.0e+00,\n",
       "        1.0e+00, 0.0e+00, 1.0e+00],\n",
       "       [0.0e+00, 1.0e+00, 0.0e+00, 2.0e-02, 1.9e-01, 3.9e+01, 0.0e+00,\n",
       "        1.0e+00, 1.0e+00, 0.0e+00],\n",
       "       [0.0e+00, 0.0e+00, 1.0e+00, 3.0e-02, 2.7e-01, 3.5e+01, 1.0e+00,\n",
       "        0.0e+00, 1.0e+00, 0.0e+00],\n",
       "       [0.0e+00, 1.0e+00, 0.0e+00, 5.0e-02, 2.7e-01, 4.9e+01, 0.0e+00,\n",
       "        1.0e+00, 1.0e+00, 0.0e+00],\n",
       "       [0.0e+00, 1.0e+00, 0.0e+00, 2.0e-02, 2.0e-01, 5.1e+01, 1.0e+00,\n",
       "        0.0e+00, 1.0e+00, 0.0e+00],\n",
       "       [0.0e+00, 0.0e+00, 1.0e+00, 5.0e-02, 8.0e-01, 8.8e+01, 0.0e+00,\n",
       "        1.0e+00, 0.0e+00, 1.0e+00],\n",
       "       [0.0e+00, 0.0e+00, 1.0e+00, 6.0e-02, 5.4e-01, 5.3e+01, 0.0e+00,\n",
       "        1.0e+00, 1.0e+00, 0.0e+00],\n",
       "       [1.0e+00, 0.0e+00, 0.0e+00, 5.0e-02, 7.8e-01, 3.8e+01, 0.0e+00,\n",
       "        1.0e+00, 0.0e+00, 1.0e+00],\n",
       "       [0.0e+00, 0.0e+00, 1.0e+00, 3.0e-02, 3.6e-01, 4.3e+01, 1.0e+00,\n",
       "        0.0e+00, 0.0e+00, 1.0e+00],\n",
       "       [1.0e+00, 0.0e+00, 0.0e+00, 4.0e-02, 8.2e-01, 5.5e+01, 1.0e+00,\n",
       "        0.0e+00, 0.0e+00, 1.0e+00],\n",
       "       [0.0e+00, 0.0e+00, 1.0e+00, 5.0e-02, 8.0e-01, 8.8e+01, 0.0e+00,\n",
       "        1.0e+00, 0.0e+00, 1.0e+00],\n",
       "       [0.0e+00, 1.0e+00, 0.0e+00, 9.0e-02, 8.6e-01, 6.3e+01, 1.0e+00,\n",
       "        0.0e+00, 0.0e+00, 1.0e+00],\n",
       "       [1.0e+00, 0.0e+00, 0.0e+00, 8.0e-02, 5.5e-01, 2.3e+01, 1.0e+00,\n",
       "        0.0e+00, 1.0e+00, 0.0e+00],\n",
       "       [1.0e+00, 0.0e+00, 0.0e+00, 2.0e-02, 8.9e-01, 4.0e+01, 0.0e+00,\n",
       "        1.0e+00, 0.0e+00, 1.0e+00]], dtype=float32)"
      ]
     },
     "execution_count": 13,
     "metadata": {},
     "output_type": "execute_result"
    }
   ],
   "source": [
    "x_train.shape\n",
    "x_train"
   ]
  },
  {
   "cell_type": "code",
   "execution_count": null,
   "metadata": {},
   "outputs": [],
   "source": [
    "### Constructing the decision tree\n",
    "import cv2\n",
    "from sklearn import metrics\n",
    "dtree = cv2.ml.DTrees_create()\n",
    "# train the tree\n",
    "dtree.train(x_train, cv2.ml.ROW_SAMPLE, y_train)"
   ]
  },
  {
   "cell_type": "code",
   "execution_count": null,
   "metadata": {},
   "outputs": [],
   "source": [
    "y_pred = dtree.predict(x_test)\n",
    "metrics.accuracy_score(y_test, y_pred)"
   ]
  }
 ],
 "metadata": {
  "kernelspec": {
   "display_name": "Python 3",
   "language": "python",
   "name": "python3"
  },
  "language_info": {
   "codemirror_mode": {
    "name": "ipython",
    "version": 3
   },
   "file_extension": ".py",
   "mimetype": "text/x-python",
   "name": "python",
   "nbconvert_exporter": "python",
   "pygments_lexer": "ipython3",
   "version": "3.6.7"
  }
 },
 "nbformat": 4,
 "nbformat_minor": 4
}
